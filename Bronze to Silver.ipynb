{
 "cells": [
  {
   "cell_type": "code",
   "execution_count": 0,
   "metadata": {
    "application/vnd.databricks.v1+cell": {
     "cellMetadata": {
      "byteLimit": 2048000,
      "rowLimit": 10000
     },
     "inputWidgets": {},
     "nuid": "bd1d4b15-3a43-4641-9d2f-12cd52200cc8",
     "showTitle": false,
     "title": ""
    }
   },
   "outputs": [],
   "source": [
    "input_path = '/mnt/bronze/Eco_Bici_2021_2023.csv/'"
   ]
  },
  {
   "cell_type": "code",
   "execution_count": 0,
   "metadata": {
    "application/vnd.databricks.v1+cell": {
     "cellMetadata": {
      "byteLimit": 2048000,
      "rowLimit": 10000
     },
     "inputWidgets": {},
     "nuid": "fd19154d-cd87-40eb-a738-d7c4f724e1a2",
     "showTitle": false,
     "title": ""
    }
   },
   "outputs": [],
   "source": [
    "df = spark.read.parquet(input_path)"
   ]
  },
  {
   "cell_type": "code",
   "execution_count": 0,
   "metadata": {
    "application/vnd.databricks.v1+cell": {
     "cellMetadata": {
      "byteLimit": 2048000,
      "rowLimit": 10000
     },
     "inputWidgets": {},
     "nuid": "d05a82a4-7346-4e6b-9ca7-49ae094926cd",
     "showTitle": false,
     "title": ""
    }
   },
   "outputs": [],
   "source": [
    "from pyspark.sql import SparkSession\n",
    "from pyspark.sql import functions as F\n",
    "from pyspark.sql.types import DateType, IntegerType, TimestampType\n",
    "\n",
    "# Crear una sesión de Spark\n",
    "spark = SparkSession.builder.appName(\"Cast_Columns\").getOrCreate()\n",
    "\n",
    "# Leer archivo\n",
    "df = spark.read.parquet(input_path)\n",
    "\n",
    "# Convertir las columna Fecha_Arribo a Date\n",
    "df = df.withColumn(\"Fecha Arribo\", F.to_timestamp(\"Fecha Arribo\", \"yyyy-MM-dd\").cast(\"date\"))\n",
    "\n",
    "# Convertir la columna Fecha_Retiro a Date\n",
    "df = df.withColumn(\"Fecha_Retiro\", F.to_timestamp(\"Fecha_Retiro\", \"yyyy-MM-dd\").cast(\"date\"))\n",
    "\n",
    "# Convertir columnas string a integer\n",
    "df = df.withColumn(\"Edad_Usuario\", df[\"Edad_Usuario\"].cast(IntegerType()))\n",
    "df = df.withColumn(\"Bici\", df[\"Bici\"].cast(IntegerType()))\n",
    "df = df.withColumn(\"Ciclo_Estacion_Retiro\",df[\"Ciclo_Estacion_Retiro\"].cast(IntegerType()))\n",
    "df = df.withColumn(\"Ciclo_EstacionArribo\",df[\"Ciclo_EstacionArribo\"].cast(IntegerType()))\n",
    "\n",
    "#Convertir columnas Hora a Timestamp\n",
    "#df = df.withColumn(\"Hora_Retiro\",df[\"Hora_Retiro\"].cast(TimestampType()))\n",
    "#df = df.withColumn(\"Hora_Arribo\",df[\"Hora_Arribo\"].cast(TimestampType()))\n",
    "\n"
   ]
  },
  {
   "cell_type": "code",
   "execution_count": 0,
   "metadata": {
    "application/vnd.databricks.v1+cell": {
     "cellMetadata": {
      "byteLimit": 2048000,
      "rowLimit": 10000
     },
     "inputWidgets": {},
     "nuid": "9e5830fb-1136-4ab5-846e-d97995ffd496",
     "showTitle": false,
     "title": ""
    }
   },
   "outputs": [],
   "source": [
    "output_path = '/mnt/silver/Eco_Bici_2021_2023'\n",
    "df.write.parquet(output_path,mode='Overwrite')\n"
   ]
  }
 ],
 "metadata": {
  "application/vnd.databricks.v1+notebook": {
   "dashboards": [],
   "language": "python",
   "notebookMetadata": {
    "pythonIndentUnit": 4
   },
   "notebookName": "Bronze to Silver",
   "widgets": {}
  }
 },
 "nbformat": 4,
 "nbformat_minor": 0
}
