{
 "cells": [
  {
   "cell_type": "code",
   "execution_count": 0,
   "metadata": {
    "application/vnd.databricks.v1+cell": {
     "cellMetadata": {
      "byteLimit": 2048000,
      "rowLimit": 10000
     },
     "inputWidgets": {},
     "nuid": "4fb9a67f-42f0-4aab-abc3-2b3a157f4870",
     "showTitle": false,
     "title": ""
    }
   },
   "outputs": [
    {
     "output_type": "execute_result",
     "data": {
      "text/plain": [
       "[FileInfo(path='dbfs:/mnt/cicloestaciones/cicloestaciones_ecobici.csv', name='cicloestaciones_ecobici.csv', size=76193, modificationTime=1705173172000)]"
      ]
     },
     "execution_count": 3,
     "metadata": {},
     "output_type": "execute_result"
    }
   ],
   "source": [
    "dbutils.fs.ls('/mnt/cicloestaciones/')"
   ]
  },
  {
   "cell_type": "code",
   "execution_count": 0,
   "metadata": {
    "application/vnd.databricks.v1+cell": {
     "cellMetadata": {
      "byteLimit": 2048000,
      "rowLimit": 10000
     },
     "inputWidgets": {},
     "nuid": "5cfcf92b-f3de-4e49-9e4a-5ca13162d501",
     "showTitle": false,
     "title": ""
    }
   },
   "outputs": [],
   "source": [
    "input_path = '/mnt/cicloestaciones/'"
   ]
  },
  {
   "cell_type": "code",
   "execution_count": 0,
   "metadata": {
    "application/vnd.databricks.v1+cell": {
     "cellMetadata": {
      "byteLimit": 2048000,
      "rowLimit": 10000
     },
     "inputWidgets": {},
     "nuid": "fbf8cdef-4142-4aa7-b1a1-3abdeb23c239",
     "showTitle": false,
     "title": ""
    }
   },
   "outputs": [],
   "source": [
    "df = spark.read.format('csv').option('Header','True').load(input_path)"
   ]
  },
  {
   "cell_type": "code",
   "execution_count": 0,
   "metadata": {
    "application/vnd.databricks.v1+cell": {
     "cellMetadata": {
      "byteLimit": 2048000,
      "rowLimit": 10000
     },
     "inputWidgets": {},
     "nuid": "69507f18-5d10-4ec2-a115-984a37e57875",
     "showTitle": false,
     "title": ""
    }
   },
   "outputs": [],
   "source": [
    "output_path = '/mnt/gold/DIM_Cicloestaciones'\n",
    "#Reducir el número de cicloestaciones a 1\n",
    "df = df.coalesce(1)\n",
    "df.write.format('delta').mode('Overwrite').save(output_path)"
   ]
  },
  {
   "cell_type": "code",
   "execution_count": 0,
   "metadata": {
    "application/vnd.databricks.v1+cell": {
     "cellMetadata": {
      "byteLimit": 2048000,
      "rowLimit": 10000
     },
     "inputWidgets": {},
     "nuid": "7b2a6616-0561-41a0-bece-f525bc886731",
     "showTitle": false,
     "title": ""
    }
   },
   "outputs": [
    {
     "output_type": "stream",
     "name": "stdout",
     "output_type": "stream",
     "text": [
      "+----------+----------+-------------------+-------+--------------+-----------+------------+----------+-------+--------------------+\n|num_cicloe|calle_prin|         calle_secu|colonia|      alcaldia|    latitud|    longitud|sitio_de_e|sistema|             estatus|\n+----------+----------+-------------------+-------+--------------+-----------+------------+----------+-------+--------------------+\n|       662|   Manzano|  Circuito Interior| Axotla|Alvaro Obregon|  19.362041|  -99.175158|    Arroyo|Ecobici|Pendientes de ins...|\n|       663| Hortensia|Avenida Universidad| Axotla|Alvaro Obregon| 19.3548028|-99.17541944|    Arroyo|Ecobici|Pendientes de ins...|\n|       666|     Moras|            Naranjo|Florida|Alvaro Obregon| 19.3614885|-99.17743249|    Arroyo|Ecobici|Pendientes de ins...|\n|       665|     Moras|              Mango|Florida|Alvaro Obregon| 19.3589028|-99.17799722|    Arroyo|Ecobici|Pendientes de ins...|\n|       678|   Francia|        Tecoyotitla|Florida|Alvaro Obregon|19.35886344|-99.18292974|    Arroyo|Ecobici|Pendientes de ins...|\n+----------+----------+-------------------+-------+--------------+-----------+------------+----------+-------+--------------------+\nonly showing top 5 rows\n\n"
     ]
    }
   ],
   "source": [
    "df.show(5)"
   ]
  }
 ],
 "metadata": {
  "application/vnd.databricks.v1+notebook": {
   "dashboards": [],
   "language": "python",
   "notebookMetadata": {
    "pythonIndentUnit": 4
   },
   "notebookName": "Cicloestaciones",
   "widgets": {}
  }
 },
 "nbformat": 4,
 "nbformat_minor": 0
}
