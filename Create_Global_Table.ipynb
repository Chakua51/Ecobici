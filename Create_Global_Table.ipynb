{
 "cells": [
  {
   "cell_type": "code",
   "execution_count": 0,
   "metadata": {
    "application/vnd.databricks.v1+cell": {
     "cellMetadata": {
      "byteLimit": 2048000,
      "rowLimit": 10000
     },
     "inputWidgets": {},
     "nuid": "780abb01-95bc-4108-8b7d-f27df8bba403",
     "showTitle": false,
     "title": ""
    }
   },
   "outputs": [
    {
     "output_type": "execute_result",
     "data": {
      "text/plain": [
       "[FileInfo(path='dbfs:/mnt/gold/Eco_Bici_2021_2023/_SUCCESS', name='_SUCCESS', size=0, modificationTime=1705247808000),\n",
       " FileInfo(path='dbfs:/mnt/gold/Eco_Bici_2021_2023/_committed_6964994607544085392', name='_committed_6964994607544085392', size=123, modificationTime=1705247808000),\n",
       " FileInfo(path='dbfs:/mnt/gold/Eco_Bici_2021_2023/_started_6964994607544085392', name='_started_6964994607544085392', size=0, modificationTime=1705247769000),\n",
       " FileInfo(path='dbfs:/mnt/gold/Eco_Bici_2021_2023/part-00000-tid-6964994607544085392-00174383-c93c-461a-9978-1cd0402fdee1-80-1-c000.snappy.parquet', name='part-00000-tid-6964994607544085392-00174383-c93c-461a-9978-1cd0402fdee1-80-1-c000.snappy.parquet', size=116263510, modificationTime=1705247808000)]"
      ]
     },
     "execution_count": 6,
     "metadata": {},
     "output_type": "execute_result"
    }
   ],
   "source": [
    "dbutils.fs.ls('/mnt/gold/Eco_Bici_2021_2023/')"
   ]
  },
  {
   "cell_type": "code",
   "execution_count": 0,
   "metadata": {
    "application/vnd.databricks.v1+cell": {
     "cellMetadata": {
      "byteLimit": 2048000,
      "rowLimit": 10000
     },
     "inputWidgets": {},
     "nuid": "25a1aa0c-76f2-4212-9036-e7adae092ab1",
     "showTitle": false,
     "title": ""
    }
   },
   "outputs": [],
   "source": [
    "input_path = '/mnt/gold/Eco_Bici_2021_2023/'"
   ]
  },
  {
   "cell_type": "code",
   "execution_count": 0,
   "metadata": {
    "application/vnd.databricks.v1+cell": {
     "cellMetadata": {
      "byteLimit": 2048000,
      "rowLimit": 10000
     },
     "inputWidgets": {},
     "nuid": "73e158e4-5569-4736-a314-9998eefbb376",
     "showTitle": false,
     "title": ""
    }
   },
   "outputs": [],
   "source": [
    "FACT_ECO_BICI = spark.read.format('parquet').load(input_path)"
   ]
  },
  {
   "cell_type": "code",
   "execution_count": 0,
   "metadata": {
    "application/vnd.databricks.v1+cell": {
     "cellMetadata": {
      "byteLimit": 2048000,
      "rowLimit": 10000
     },
     "inputWidgets": {},
     "nuid": "cb8356d8-3860-46a1-876c-e54cb51e762a",
     "showTitle": false,
     "title": ""
    }
   },
   "outputs": [],
   "source": [
    "FACT_ECO_BICI.write.saveAsTable(\"FACT_ECO_BICI\")"
   ]
  }
 ],
 "metadata": {
  "application/vnd.databricks.v1+notebook": {
   "dashboards": [],
   "language": "python",
   "notebookMetadata": {
    "pythonIndentUnit": 4
   },
   "notebookName": "Create_Global_Table",
   "widgets": {}
  }
 },
 "nbformat": 4,
 "nbformat_minor": 0
}
